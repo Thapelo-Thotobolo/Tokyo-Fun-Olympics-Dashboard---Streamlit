{
 "cells": [
  {
   "cell_type": "code",
   "execution_count": null,
   "id": "8f00436a",
   "metadata": {},
   "outputs": [],
   "source": [
    "pip install geoip2"
   ]
  },
  {
   "cell_type": "code",
   "execution_count": null,
   "id": "da52dfed",
   "metadata": {},
   "outputs": [],
   "source": [
    "import random\n",
    "import datetime\n",
    "\n",
    "# List of possible HTTP status codes\n",
    "status_codes = [200, 404, 500]\n",
    "\n",
    "# List of possible HTTP request methods\n",
    "request_methods = [\"GET\", \"POST\"]\n",
    "\n",
    "# List of possible paths for the Olympics website\n",
    "paths = [\"/\", \"/athletes\", \"/sports\", \"/medals\", \"/schedule\", \"/results\",\n",
    "         \"/sports/basketball\", \"/sports/cycling\", \"/sports/diving\", \"/sports/gymnastics\", \"/sports/rowing\", \"/sports/soccer\",\n",
    "         \"/sports/swimming\", \"/sports/table-tennis\", \"/sports/tennis\", \"/sports/track-and-field\", \"/sports/volleyball\",\n",
    "         \"/sports/water-polo\", \"/sports/wrestling\", \"/medals\", \"/about\"]\n",
    "\n",
    "# List of possible user agents\n",
    "user_agents = [\"Mozilla/5.0 (Windows NT 10.0; Win64; x64) AppleWebKit/537.36 (KHTML, like Gecko) Chrome/58.0.3029.110 Safari/537.36\",\n",
    "               \"Mozilla/5.0 (Windows NT 10.0; Win64; x64; rv:54.0) Gecko/20100101 Firefox/54.0\",\n",
    "               \"Mozilla/5.0 (Macintosh; Intel Mac OS X 10_12_5) AppleWebKit/537.36 (KHTML, like Gecko) Chrome/58.0.3029.110 Safari/537.36\",\n",
    "               \"Mozilla/5.0 (Macintosh; Intel Mac OS X 10_12_5) AppleWebKit/537.36 (KHTML, like Gecko) Firefox/54.0\"]\n",
    "\n",
    "# List of possible countries\n",
    "countries = [\"United States\", \"United Kingdom\", \"Canada\", \"Australia\", \"Germany\", \"France\", \"Spain\", \"Italy\", \"Japan\", \"China\"]\n",
    "\n",
    "# List of possible traffic sources\n",
    "traffic_sources = [\"Reddit\", \"Twitter\", \"Facebook\", \"Other\"]\n",
    "\n",
    "# Generate a random web server log entry\n",
    "def generate_log_entry():\n",
    "    start_date = datetime.datetime(2023, 5, 1)\n",
    "    end_date = datetime.datetime(2023, 8, 20)\n",
    "    random_date = start_date + (end_date - start_date) * random.random()\n",
    "    timestamp = random_date.strftime(\"%Y-%m-%d %H:%M:%S\")\n",
    "    #timestamp = now.strftime(\"%d/%b/%Y:%H:%M:%S %z\")\n",
    "    http_method = random.choice(request_methods)\n",
    "    path = random.choice(paths)\n",
    "    http_version = \"HTTP/1.1\"\n",
    "    status_code = random.choice(status_codes)\n",
    "    user_agent = random.choice(user_agents)\n",
    "\n",
    "    ip_address = f\"{random.randint(0,255)}.{random.randint(0,255)}.{random.randint(0,255)}.{random.randint(0,255)}\"\n",
    "    traffic_source = random.choice(traffic_sources)\n",
    "    log_entry = f\"{ip_address} {timestamp} \\\"{http_method} {path} {http_version}\\\" {status_code} {random.randint(100, 10000)} \\\"{traffic_source}\\\" \\\"{user_agent}\\\"\"\n",
    "    #log_entry = f\"{ip_address} {timestamp} \\\" \"{http_method} {path} {http_version}\\\" {status_code} {random.randint(100, 10000)} \\\"{traffic_source}\\\" \\\"{user_agent}\\\"\"\n",
    "    return log_entry\n",
    "\n",
    "# Generate a web server log file with the specified number of entries\n",
    "def generate_log_file(num_entries):\n",
    "    with open(\"tokyofunolympics.log\", \"w\") as f:\n",
    "        for i in range(num_entries):\n",
    "            log_entry = generate_log_entry()\n",
    "            f.write(log_entry + \"\\n\")\n",
    "            print(log_entry)\n",
    "\n",
    "# Generate a web server log file with 5000 entries\n",
    "generate_log_file(5000)\n"
   ]
  },
  {
   "cell_type": "code",
   "execution_count": null,
   "id": "27a6eeef",
   "metadata": {},
   "outputs": [],
   "source": [
    "import pandas as pd\n",
    "\n",
    "# Read the log file into a DataFrame\n",
    "df = pd.read_csv('tokyofunolympics.log', sep=' ', header=None, names=['IP address','Date','Time','Path','Status_code','Bytes_sent','traffic_source','User_agent'])"
   ]
  },
  {
   "cell_type": "code",
   "execution_count": null,
   "id": "cf68786e",
   "metadata": {},
   "outputs": [],
   "source": [
    "df"
   ]
  },
  {
   "cell_type": "code",
   "execution_count": null,
   "id": "0ba63c17",
   "metadata": {},
   "outputs": [],
   "source": [
    "import geoip2.database\n",
    "\n",
    "# Replace \"path/to/GeoLite2-City.mmdb\" with the path to your GeoLite2-City database file\n",
    "reader = geoip2.database.Reader('GeoLite2-Country.mmdb')\n",
    "\n",
    "\n",
    "# Replace \"ip_address_column\" with the name of your IP address column\n",
    "ip_addresses = df['IP address']\n",
    "\n",
    "def get_country(ip_address):\n",
    "    try:\n",
    "        response = reader.country(ip_address)\n",
    "        country = response.country.name\n",
    "        return country\n",
    "    except geoip2.errors.AddressNotFoundError:\n",
    "        return 'Unknown'\n",
    "\n",
    "df['Country'] = ip_addresses.apply(get_country)"
   ]
  },
  {
   "cell_type": "code",
   "execution_count": null,
   "id": "df7e04a9",
   "metadata": {},
   "outputs": [],
   "source": [
    "df"
   ]
  },
  {
   "cell_type": "code",
   "execution_count": null,
   "id": "a66e7b96",
   "metadata": {},
   "outputs": [],
   "source": [
    "Path9 = df['Path'].str.split(\"/\", n=1, expand= True)"
   ]
  },
  {
   "cell_type": "code",
   "execution_count": null,
   "id": "f843c156",
   "metadata": {},
   "outputs": [],
   "source": [
    "Path9"
   ]
  },
  {
   "cell_type": "code",
   "execution_count": null,
   "id": "ecde9bde",
   "metadata": {},
   "outputs": [],
   "source": [
    "df[\"HTTP_method\"] = Path9[0]"
   ]
  },
  {
   "cell_type": "code",
   "execution_count": null,
   "id": "434f4bdf",
   "metadata": {},
   "outputs": [],
   "source": [
    "df"
   ]
  },
  {
   "cell_type": "code",
   "execution_count": null,
   "id": "f639cad0",
   "metadata": {},
   "outputs": [],
   "source": [
    "Path1 = Path9[1].str.split(\" \", n=1, expand= True)"
   ]
  },
  {
   "cell_type": "code",
   "execution_count": null,
   "id": "6fb4f21c",
   "metadata": {},
   "outputs": [],
   "source": [
    "Path1"
   ]
  },
  {
   "cell_type": "code",
   "execution_count": null,
   "id": "2dfe215b",
   "metadata": {},
   "outputs": [],
   "source": [
    "df[\"Http_version\"] = Path1[1]"
   ]
  },
  {
   "cell_type": "code",
   "execution_count": null,
   "id": "12b2543d",
   "metadata": {},
   "outputs": [],
   "source": [
    "df[\"Path9\"] = Path1[0]"
   ]
  },
  {
   "cell_type": "code",
   "execution_count": null,
   "id": "f622bc08",
   "metadata": {},
   "outputs": [],
   "source": [
    "df"
   ]
  },
  {
   "cell_type": "code",
   "execution_count": null,
   "id": "4054dbda",
   "metadata": {},
   "outputs": [],
   "source": [
    "\n",
    "Path2 = df['Path9'].str.split(\"/\", n=1, expand= True)\n"
   ]
  },
  {
   "cell_type": "code",
   "execution_count": null,
   "id": "fec295be",
   "metadata": {},
   "outputs": [],
   "source": [
    "df[\"Sports_Viewed\"] = Path2[1]\n"
   ]
  },
  {
   "cell_type": "code",
   "execution_count": null,
   "id": "8eec1584",
   "metadata": {},
   "outputs": [],
   "source": [
    "df[\"Path9\"] = Path2[0]"
   ]
  },
  {
   "cell_type": "code",
   "execution_count": null,
   "id": "b8f92fec",
   "metadata": {},
   "outputs": [],
   "source": [
    "df"
   ]
  },
  {
   "cell_type": "code",
   "execution_count": null,
   "id": "16e923e0",
   "metadata": {},
   "outputs": [],
   "source": [
    "df = df.drop('Path9', axis=1)\n",
    "df"
   ]
  },
  {
   "cell_type": "code",
   "execution_count": null,
   "id": "619ca8c5",
   "metadata": {},
   "outputs": [],
   "source": [
    "df.to_csv('tokyofunolympics.csv', index=False)"
   ]
  },
  {
   "cell_type": "code",
   "execution_count": null,
   "id": "666ebd63",
   "metadata": {},
   "outputs": [],
   "source": [
    "df"
   ]
  },
  {
   "cell_type": "code",
   "execution_count": null,
   "id": "077908a9",
   "metadata": {},
   "outputs": [],
   "source": [
    "def load_data():\n",
    "    df = pd.read_csv('tokyofunolympics.csv')\n",
    "    df[\"hour\"] = pd.to_datetime(df[\"Time\"], format=\"%H:%M:%S\").dt.hour\n",
    "    return df\n",
    "df = load_data()"
   ]
  },
  {
   "cell_type": "code",
   "execution_count": null,
   "id": "ebf6ae2b",
   "metadata": {},
   "outputs": [],
   "source": [
    "df"
   ]
  },
  {
   "cell_type": "code",
   "execution_count": null,
   "id": "2f6c09f9",
   "metadata": {},
   "outputs": [],
   "source": []
  }
 ],
 "metadata": {
  "kernelspec": {
   "display_name": "Python 3 (ipykernel)",
   "language": "python",
   "name": "python3"
  },
  "language_info": {
   "codemirror_mode": {
    "name": "ipython",
    "version": 3
   },
   "file_extension": ".py",
   "mimetype": "text/x-python",
   "name": "python",
   "nbconvert_exporter": "python",
   "pygments_lexer": "ipython3",
   "version": "3.9.7"
  }
 },
 "nbformat": 4,
 "nbformat_minor": 5
}
