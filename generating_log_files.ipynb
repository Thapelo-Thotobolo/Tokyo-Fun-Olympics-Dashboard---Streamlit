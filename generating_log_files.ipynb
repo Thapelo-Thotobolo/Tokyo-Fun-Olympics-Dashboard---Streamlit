import random
import datetime

# List of possible HTTP status codes
status_codes = [200, 404, 500]

# List of possible HTTP request methods
request_methods = ["GET", "POST"]

# List of possible paths for the Olympics website
paths = ["/", "/athletes", "/sports", "/medals", "/schedule", "/results",
         "/sports/basketball", "/sports/cycling", "/sports/diving", "/sports/gymnastics", "/sports/rowing", "/sports/soccer",
         "/sports/swimming", "/sports/table-tennis", "/sports/tennis", "/sports/track-and-field", "/sports/volleyball",
         "/sports/water-polo", "/sports/wrestling", "/medals", "/about"]

# List of possible user agents
user_agents = ["Mozilla/5.0 (Windows NT 10.0; Win64; x64) AppleWebKit/537.36 (KHTML, like Gecko) Chrome/58.0.3029.110 Safari/537.36",
               "Mozilla/5.0 (Windows NT 10.0; Win64; x64; rv:54.0) Gecko/20100101 Firefox/54.0",
               "Mozilla/5.0 (Macintosh; Intel Mac OS X 10_12_5) AppleWebKit/537.36 (KHTML, like Gecko) Chrome/58.0.3029.110 Safari/537.36",
               "Mozilla/5.0 (Macintosh; Intel Mac OS X 10_12_5) AppleWebKit/537.36 (KHTML, like Gecko) Firefox/54.0"]

# List of possible countries
countries = ["United States", "United Kingdom", "Canada", "Australia", "Germany", "France", "Spain", "Italy", "Japan", "China"]

# List of possible traffic sources
traffic_sources = ["Reddit", "Twitter", "Facebook", "Other"]

# Generate a random web server log entry
def generate_log_entry():
    start_date = datetime.datetime(2023, 5, 1)
    end_date = datetime.datetime(2023, 8, 20)
    random_date = start_date + (end_date - start_date) * random.random()
    timestamp = random_date.strftime("%Y-%m-%d %H:%M:%S")
    #timestamp = now.strftime("%d/%b/%Y:%H:%M:%S %z")
    http_method = random.choice(request_methods)
    path = random.choice(paths)
    http_version = "HTTP/1.1"
    status_code = random.choice(status_codes)
    user_agent = random.choice(user_agents)

    ip_address = f"{random.randint(0,255)}.{random.randint(0,255)}.{random.randint(0,255)}.{random.randint(0,255)}"
    traffic_source = random.choice(traffic_sources)
    log_entry = f"{ip_address} {timestamp} \"{http_method} {path} {http_version}\" {status_code} {random.randint(100, 10000)} \"{traffic_source}\" \"{user_agent}\""
    #log_entry = f"{ip_address} {timestamp} \" "{http_method} {path} {http_version}\" {status_code} {random.randint(100, 10000)} \"{traffic_source}\" \"{user_agent}\""
    return log_entry

# Generate a web server log file with the specified number of entries
def generate_log_file(num_entries):
    with open("tokyofunolympics.log", "w") as f:
        for i in range(num_entries):
            log_entry = generate_log_entry()
            f.write(log_entry + "\n")
            print(log_entry)

# Generate a web server log file with 5000 entries
generate_log_file(5000)
